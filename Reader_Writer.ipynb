{
 "cells": [
  {
   "cell_type": "code",
   "execution_count": null,
   "metadata": {},
   "outputs": [],
   "source": [
    "import threading\n",
    "import time\n",
    "class ReaderWriter():\n",
    "    def __init__(self):\n",
    "        self.rd = threading.Semaphore()  \n",
    "        self.wrt = threading.Semaphore()  \n",
    "        self.readCount = 0   \n",
    "    def reader(self):\n",
    "        while True:\n",
    "            self.rd.acquire()      \n",
    "            self.readCount+=1       \n",
    "            if self.readCount == 1: \n",
    "                self.wrt.acquire() \n",
    "            self.rd.release()     \n",
    "            print(f\"Reader {self.readCount} is reading\")\n",
    "            self.rd.acquire()   \n",
    "            self.readCount-=1  \n",
    "            if self.readCount == 0: \n",
    "                self.wrt.release()  \n",
    "            self.rd.release()      \n",
    "            time.sleep(3)          \n",
    "    def writer(self):\n",
    "        while True:\n",
    "            self.wrt.acquire()    \n",
    "            print(\"Wrting data.....\") \n",
    "            print(\"-\"*20)\n",
    "            self.wrt.release()  \n",
    "            time.sleep(3)    \n",
    "    def main(self):\n",
    "        t1 = threading.Thread(target = self.reader) \n",
    "        t1.start()\n",
    "        t2 = threading.Thread(target = self.writer) \n",
    "        t2.start()\n",
    "        t3 = threading.Thread(target = self.reader) \n",
    "        t3.start()\n",
    "        t4 = threading.Thread(target = self.reader) \n",
    "        t4.start()\n",
    "        t6 = threading.Thread(target = self.writer) \n",
    "        t6.start()\n",
    "        t5 = threading.Thread(target = self.reader) \n",
    "        t5.start()\n",
    "        \n",
    "\n",
    "if __name__==\"__main__\":\n",
    "    c = ReaderWriter()\n",
    "    c.main()\n"
   ]
  },
  {
   "cell_type": "code",
   "execution_count": null,
   "metadata": {},
   "outputs": [],
   "source": []
  },
  {
   "cell_type": "code",
   "execution_count": null,
   "metadata": {},
   "outputs": [],
   "source": []
  }
 ],
 "metadata": {
  "kernelspec": {
   "display_name": "Python 3",
   "language": "python",
   "name": "python3"
  },
  "language_info": {
   "codemirror_mode": {
    "name": "ipython",
    "version": 3
   },
   "file_extension": ".py",
   "mimetype": "text/x-python",
   "name": "python",
   "nbconvert_exporter": "python",
   "pygments_lexer": "ipython3",
   "version": "3.8.3"
  }
 },
 "nbformat": 4,
 "nbformat_minor": 4
}
