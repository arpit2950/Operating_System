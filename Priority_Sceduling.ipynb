{
 "cells": [
  {
   "cell_type": "code",
   "execution_count": 4,
   "metadata": {},
   "outputs": [
    {
     "name": "stdout",
     "output_type": "stream",
     "text": [
      "Order in which processes gets executed\n",
      "1 3 2 \n",
      "Processes    Burst Time    Waiting Time    Turn-Around Time\n",
      "  1 \t\t 9 \t\t 0 \t\t 9\n",
      "  3 \t\t 9 \t\t 9 \t\t 18\n",
      "  2 \t\t 4 \t\t 18 \t\t 22\n",
      "\n",
      "Average waiting time = 9.00000 \n",
      "Average turn around time =  16.333333333333332\n"
     ]
    }
   ],
   "source": [
    "\n",
    "def WaitingTime(processes, n, wt):  \n",
    "    wt[0] = 0\n",
    "  \n",
    "    for i in range(1, n):  \n",
    "        wt[i] = processes[i - 1][1] + wt[i - 1]  \n",
    "  \n",
    "  \n",
    "def TurnAroundTime(processes, n, wt, tat):  \n",
    "\n",
    "    for i in range(n): \n",
    "        tat[i] = processes[i][1] + wt[i]  \n",
    "  \n",
    "\n",
    "def avgTime(processes, n):  \n",
    "    wt = [0] * n \n",
    "    tat = [0] * n  \n",
    " \n",
    "    WaitingTime(processes, n, wt)  \n",
    "\n",
    "    TurnAroundTime(processes, n, wt, tat)\n",
    "    print(\"\\nProcesses    Burst Time    Waiting\",  \"Time    Turn-Around Time\") \n",
    "    total_wt = 0\n",
    "    total_tat = 0\n",
    "    for i in range(n): \n",
    "  \n",
    "        total_wt = total_wt + wt[i]  \n",
    "        total_tat = total_tat + tat[i]  \n",
    "        print(\" \", processes[i][0], \"\\t\\t\",  \n",
    "                   processes[i][1], \"\\t\\t\",  \n",
    "                   wt[i], \"\\t\\t\", tat[i]) \n",
    "  \n",
    "    print(\"\\nAverage waiting time = %.5f \"%(total_wt /n)) \n",
    "    print(\"Average turn around time = \", total_tat / n)  \n",
    "  \n",
    "def priorityScheduling(proc, n): \n",
    "      \n",
    "\n",
    "    proc = sorted(proc, key = lambda proc:proc[2],  \n",
    "                                  reverse = True);  \n",
    "  \n",
    "    print(\"Order in which processes gets executed\") \n",
    "    for i in proc: \n",
    "        print(i[0], end = \" \") \n",
    "    findavgTime(proc, n)  \n",
    "\n",
    "if __name__ ==\"__main__\": \n",
    "      \n",
    "\n",
    "    proc = [[1, 9, 2],  \n",
    "            [2, 4, 0],  \n",
    "            [3,9, 2]] \n",
    "    n = 3\n",
    "    priorityScheduling(proc, n) \n"
   ]
  },
  {
   "cell_type": "code",
   "execution_count": null,
   "metadata": {},
   "outputs": [],
   "source": []
  }
 ],
 "metadata": {
  "kernelspec": {
   "display_name": "Python 3",
   "language": "python",
   "name": "python3"
  },
  "language_info": {
   "codemirror_mode": {
    "name": "ipython",
    "version": 3
   },
   "file_extension": ".py",
   "mimetype": "text/x-python",
   "name": "python",
   "nbconvert_exporter": "python",
   "pygments_lexer": "ipython3",
   "version": "3.8.3"
  }
 },
 "nbformat": 4,
 "nbformat_minor": 4
}
