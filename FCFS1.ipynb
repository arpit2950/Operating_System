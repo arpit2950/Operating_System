{
 "cells": [
  {
   "cell_type": "code",
   "execution_count": 7,
   "metadata": {},
   "outputs": [
    {
     "name": "stdout",
     "output_type": "stream",
     "text": [
      "Enter the number of process: \n",
      "4\n",
      "Enter the burst time of the processes: \n",
      "\n",
      "2 3 4 5\n",
      "\n",
      "\n",
      "Process Number\t  Burst Time of the input\t  Waiting Time of the input\t  Turn Around Time of the input\n",
      "0\t\t2\t\t0\t\t2\n",
      "\n",
      "\n",
      "1\t\t3\t\t2\t\t5\n",
      "\n",
      "\n",
      "2\t\t4\t\t5\t\t9\n",
      "\n",
      "\n",
      "3\t\t5\t\t9\t\t14\n",
      "\n",
      "\n",
      "Avg wait: 4.0\n",
      "Avg TAT: 7.0\n"
     ]
    }
   ],
   "source": [
    "#Without arrival\n",
    "bt=[]\n",
    "print(\"Enter the number of process: \")\n",
    "n=int(input())\n",
    "print(\"Enter the burst time of the processes: \\n\")\n",
    "bt=list(map(int, input().split()))\n",
    "\n",
    "wt=[]\n",
    "avgwt=0\n",
    "tat=[]\n",
    "avgtat=0\n",
    "\n",
    "wt.insert(0,0)\n",
    "tat.insert(0,bt[0])\n",
    "\n",
    "for i in range(1,len(bt)):\n",
    "    wt.insert(i,wt[i-1]+bt[i-1])\n",
    "    tat.insert(i,wt[i]+bt[i])\n",
    "    avgwt+=wt[i]\n",
    "    avgtat+=tat[i]\n",
    "\n",
    "avgwt=float(avgwt)/n\n",
    "avgtat=float(avgtat)/n\n",
    "print(\"\\n\")\n",
    "print(\"Process Number\\t  Burst Time of the input\\t  Waiting Time of the input\\t  Turn Around Time of the input\")\n",
    "\n",
    "for i in range(0,n):\n",
    "    print(str(i)+\"\\t\\t\"+str(bt[i])+\"\\t\\t\"+str(wt[i])+\"\\t\\t\"+str(tat[i]))\n",
    "    print(\"\\n\")\n",
    "\n",
    "print(\"Avg wait: \"+str(avgwt))\n",
    "print(\"Avg TAT: \"+str(avgtat))\n"
   ]
  },
  {
   "cell_type": "markdown",
   "metadata": {},
   "source": [
    "# With ARRIVAL time\n"
   ]
  },
  {
   "cell_type": "code",
   "execution_count": 18,
   "metadata": {},
   "outputs": [
    {
     "name": "stdout",
     "output_type": "stream",
     "text": [
      "Processes   Burst Time   Arrival Time     Waiting Time   Turn-Around Time  Completion Time \n",
      "\n",
      "  1 \t\t 5 \t\t 0 \t\t 0 \t\t  5 \t\t  5\n",
      "  2 \t\t 10 \t\t 4 \t\t 1 \t\t  11 \t\t  15\n",
      "  3 \t\t 16 \t\t 12 \t\t 3 \t\t  19 \t\t  31\n",
      "Average waiting time = 1.33333 \n",
      "\n",
      "Average turn around time =  11.666666666666666\n"
     ]
    }
   ],
   "source": [
    "def findWaitingTime(processes, n, bt, wt, at):  \n",
    "    service_time = [0] * n  \n",
    "    service_time[0] = 0\n",
    "    wt[0] = 0\n",
    "    for i in range(1, n):  \n",
    "        service_time[i] = (service_time[i - 1] + bt[i - 1])    \n",
    "        wt[i] = service_time[i] - at[i]  \n",
    "        if (wt[i] < 0): \n",
    "            wt[i] = 0\n",
    "            \n",
    "def findTurnAroundTime(processes, n, bt, wt, tat):  \n",
    "    for i in range(n): \n",
    "        tat[i] = bt[i] + wt[i]  \n",
    "    \n",
    "def findavgTime(processes, n, bt, at):  \n",
    "    wt = [0] * n \n",
    "    tat = [0] * n  \n",
    "\n",
    "    findWaitingTime(processes, n, bt, wt, at)  \n",
    "  \n",
    "    findTurnAroundTime(processes, n, bt, wt, tat)  \n",
    "  \n",
    "    print(\"Processes   Burst Time   Arrival Time     Waiting\",  \n",
    "          \"Time   Turn-Around Time  Completion Time \\n\") \n",
    "    total_wt = 0\n",
    "    total_tat = 0\n",
    "    for i in range(n): \n",
    "  \n",
    "        total_wt = total_wt + wt[i]  \n",
    "        total_tat = total_tat + tat[i]  \n",
    "        compl_time = tat[i] + at[i]  \n",
    "        print(\" \", i + 1, \"\\t\\t\", bt[i], \"\\t\\t\", at[i],  \n",
    "              \"\\t\\t\", wt[i], \"\\t\\t \", tat[i], \"\\t\\t \", compl_time)  \n",
    "  \n",
    "    print(\"Average waiting time = %.5f \"%(total_wt /n)) \n",
    "    print(\"\\nAverage turn around time = \", total_tat / n)  \n",
    "\n",
    "processes = [1, 2, 3] \n",
    "n = 3\n",
    "\n",
    "burst_time = [5, 10, 16]  \n",
    "  \n",
    "arrival_time = [0, 4,12]  \n",
    "  \n",
    "findavgTime(processes, n, burst_time, \n",
    "                            arrival_time)"
   ]
  },
  {
   "cell_type": "code",
   "execution_count": null,
   "metadata": {},
   "outputs": [],
   "source": []
  }
 ],
 "metadata": {
  "kernelspec": {
   "display_name": "Python 3",
   "language": "python",
   "name": "python3"
  },
  "language_info": {
   "codemirror_mode": {
    "name": "ipython",
    "version": 3
   },
   "file_extension": ".py",
   "mimetype": "text/x-python",
   "name": "python",
   "nbconvert_exporter": "python",
   "pygments_lexer": "ipython3",
   "version": "3.8.3"
  }
 },
 "nbformat": 4,
 "nbformat_minor": 2
}
