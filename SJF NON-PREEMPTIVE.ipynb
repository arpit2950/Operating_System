{
 "cells": [
  {
   "cell_type": "code",
   "execution_count": null,
   "metadata": {},
   "outputs": [],
   "source": []
  },
  {
   "cell_type": "markdown",
   "metadata": {},
   "source": [
    "# SJF NON PREEMPTIVE"
   ]
  },
  {
   "cell_type": "code",
   "execution_count": 5,
   "metadata": {},
   "outputs": [
    {
     "name": "stdout",
     "output_type": "stream",
     "text": [
      "Enter the number of process: \n",
      "5\n",
      "Enter the burst time of the processes: \n",
      "\n",
      "1 4 2 6 3\n",
      "\n",
      "\n",
      "Process\t  Burst Time\t  Waiting Time\t  Turn Around Time\n",
      "1\t\t1\t\t0\t\t1\n",
      "\n",
      "\n",
      "3\t\t2\t\t1\t\t3\n",
      "\n",
      "\n",
      "5\t\t3\t\t3\t\t6\n",
      "\n",
      "\n",
      "2\t\t4\t\t6\t\t10\n",
      "\n",
      "\n",
      "4\t\t6\t\t10\t\t16\n",
      "\n",
      "\n",
      "Average Waiting time is: 4.0\n",
      "Average Turn Arount Time is: 7.0\n"
     ]
    }
   ],
   "source": [
    "\n",
    "bt=[]   \n",
    "print(\"Enter the number of process: \")\n",
    "n=int(input())\n",
    "processes=[]\n",
    "for i in range(0,n):\n",
    "    processes.insert(i,i+1)\n",
    "print(\"Enter the burst time of the processes: \\n\")\n",
    "bt=list(map(int, input().split()))\n",
    "for i in range(0,len(bt)-1):  #applying bubble sort to sort process according to their burst time\n",
    " for j in range(0,len(bt)-i-1):\n",
    "  if(bt[j]>bt[j+1]):\n",
    "   temp=bt[j]\n",
    "   bt[j]=bt[j+1]\n",
    "   bt[j+1]=temp\n",
    "   temp=processes[j]\n",
    "   processes[j]=processes[j+1]\n",
    "   processes[j+1]=temp\n",
    "wt=[]    #wt stands for waiting time\n",
    "avgwt=0  #average of waiting time\n",
    "tat=[]    #tat stands for turnaround time\n",
    "avgtat=0   #average of total turnaround time\n",
    "wt.insert(0,0)\n",
    "tat.insert(0,bt[0])\n",
    "for i in range(1,len(bt)):  \n",
    " wt.insert(i,wt[i-1]+bt[i-1])\n",
    " tat.insert(i,wt[i]+bt[i])\n",
    " avgwt+=wt[i]\n",
    " avgtat+=tat[i]\n",
    "avgwt=float(avgwt)/n\n",
    "avgtat=float(avgtat)/n\n",
    "print(\"\\n\")\n",
    "print(\"Process\\t  Burst Time\\t  Waiting Time\\t  Turn Around Time\")\n",
    "for i in range(0,n):\n",
    " print(str(processes[i])+\"\\t\\t\"+str(bt[i])+\"\\t\\t\"+str(wt[i])+\"\\t\\t\"+str(tat[i]))\n",
    " print(\"\\n\")\n",
    "print(\"Average Waiting time is: \"+str(avgwt))\n",
    "print(\"Average Turn Arount Time is: \"+str(avgtat))"
   ]
  },
  {
   "cell_type": "code",
   "execution_count": null,
   "metadata": {},
   "outputs": [],
   "source": []
  }
 ],
 "metadata": {
  "kernelspec": {
   "display_name": "Python 3",
   "language": "python",
   "name": "python3"
  },
  "language_info": {
   "codemirror_mode": {
    "name": "ipython",
    "version": 3
   },
   "file_extension": ".py",
   "mimetype": "text/x-python",
   "name": "python",
   "nbconvert_exporter": "python",
   "pygments_lexer": "ipython3",
   "version": "3.8.3"
  }
 },
 "nbformat": 4,
 "nbformat_minor": 4
}
